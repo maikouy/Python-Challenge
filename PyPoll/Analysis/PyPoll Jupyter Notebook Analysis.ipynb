{
 "cells": [
  {
   "cell_type": "code",
   "execution_count": 158,
   "metadata": {},
   "outputs": [
    {
     "name": "stdout",
     "output_type": "stream",
     "text": [
      "Resources\\election_data.csv\n"
     ]
    }
   ],
   "source": [
    "#Import file/ open the file to CHANGE \n",
    "import os\n",
    "import csv\n",
    "\n",
    "#path to collect data from the Resource folder\n",
    "#election_data = os.path.join(\"Resources\", \"election_data.csv\")\n",
    "election_data = os.path.join(\"Resources\", \"election_data.csv\")\n",
    "print(election_data)\n",
    "\n",
    "voter_id = []\n",
    "county = []\n",
    "candidate = []\n",
    "candidate_name = []\n",
    "votes = []\n",
    "\n",
    "khan_votes = 0\n",
    "correy_votes = 0\n",
    "li_votes = 0\n",
    "otooley_votes = 0"
   ]
  },
  {
   "cell_type": "code",
   "execution_count": 159,
   "metadata": {
    "scrolled": true
   },
   "outputs": [
    {
     "name": "stdout",
     "output_type": "stream",
     "text": [
      "<csv.DictReader object at 0x000001E67A324CA0>\n",
      "1048574\n"
     ]
    }
   ],
   "source": [
    "with open(election_data, newline=\"\") as csvfile:\n",
    "    csvreader = csv.DictReader(csvfile, delimiter=',')\n",
    "    print(csvreader)\n",
    "\n",
    "#read the header row first\n",
    "    csv_header = next(csvreader)\n",
    "    #print(f\"CSV Header: {csvreader}\")\n",
    "    #print(csv_header)\n",
    "    \n",
    "    \n",
    "    #start the for loop:\n",
    "    for row in csvreader:\n",
    "        #print(row)\n",
    "        \n",
    "        voter_id.append(int(row[\"Voter ID\"]))\n",
    "        county.append(row[\"County\"])\n",
    "        candidate.append(row[\"Candidate\"])\n",
    "        \n",
    "        #Calculate the number of votes cast\n",
    "        #print(len(voter_id)) \n",
    "        \n",
    "        #Indicate the candidates\n",
    "        #candidate_name = row[\"Candidate\"]\n",
    "        #print(candidate_name)\n",
    "        \n",
    "        #Go through the \"Candidate\" list\n",
    "        \n",
    "        if row[\"Candidate\"] == \"Khan\":\n",
    "            khan_votes += 1\n",
    "        elif row[\"Candidate\"] == \"Correy\":\n",
    "            correy_votes += 1\n",
    "        elif row[\"Candidate\"] == \"Li\":\n",
    "            li_votes += 1\n",
    "        elif row[\"Candidate\"] == \"O'Tooley\":\n",
    "            otooley_votes += 1\n",
    "\n",
    "\n",
    "print(len(voter_id))\n",
    "\n",
    "#I got the answer 1048575, and the hw states it should be 3521001 for \"csvreader\"\n",
    "#I got the answer 8388592, and the hw states it should be 3521001 for \"csv.DictReader\"\n",
    "\n",
    "\n",
    "\n"
   ]
  },
  {
   "cell_type": "code",
   "execution_count": 160,
   "metadata": {},
   "outputs": [
    {
     "name": "stdout",
     "output_type": "stream",
     "text": [
      "['khan_votes', 'correy_votes', 'li_votes', 'otooley_votes']\n",
      "{'Khan', 'Li', \"O'Tooley\", 'Correy'}\n",
      "661582\n",
      "209046\n",
      "146360\n",
      "31586\n"
     ]
    }
   ],
   "source": [
    "#focus only on candidate category and their number of votes\n",
    "#zip both categories to one csv\n",
    "candidates_and_votes = {\"Khan\", \"Correy\", \"Li\", \"O'Tooley\"} \n",
    "votes = [\"khan_votes\", \"correy_votes\", \"li_votes\", \"otooley_votes\"]\n",
    "\n",
    "#zip all 3 lists together into tuples\n",
    "list = zip(candidates_and_votes, votes)\n",
    "\n",
    "#save the output file path\n",
    "output_path = os.path.join(\"final.csv\")\n",
    "\n",
    "with open(output_path, \"w\", newline='') as datafile:\n",
    "    writer = csv.writer(datafile)\n",
    "    \n",
    "    writer.writerow([\"Candidate\", \"Votes\"])\n",
    "    \n",
    "    writer.writerows(list)\n",
    " \n",
    "print(votes)\n",
    "print(candidates_and_votes)\n",
    "print(khan_votes)\n",
    "print(correy_votes)\n",
    "print(li_votes)\n",
    "print(otooley_votes)\n",
    "\n",
    "  "
   ]
  },
  {
   "cell_type": "code",
   "execution_count": 161,
   "metadata": {},
   "outputs": [
    {
     "name": "stdout",
     "output_type": "stream",
     "text": [
      "63.09349650096225\n",
      "19.936218140064508\n",
      "13.958003917701564\n",
      "3.01228144127167\n"
     ]
    }
   ],
   "source": [
    "#get the percentage of votes for each (4) candidate\n",
    "khan_percent = (khan_votes/(len(voter_id))) * 100\n",
    "print(khan_percent)\n",
    "correy_percent = (correy_votes/(len(voter_id))) * 100\n",
    "print(correy_percent)\n",
    "li_percent = (li_votes/(len(voter_id))) * 100\n",
    "print(li_percent)\n",
    "otooley_percent = (otooley_votes/(len(voter_id))) * 100\n",
    "print(otooley_percent)\n"
   ]
  },
  {
   "cell_type": "code",
   "execution_count": 147,
   "metadata": {},
   "outputs": [
    {
     "name": "stdout",
     "output_type": "stream",
     "text": [
      "Election Results\n",
      "------------------------------------\n",
      "Total Votes:1048574\n",
      "-------------------------------------\n",
      "Khan:63.09349650096225%(661582)\n",
      "Correy:19.936218140064508%(209046)\n",
      "Li:13.958003917701564%(146360)\n",
      "OTooley:3.01228144127167%(31586)\n",
      "------------------------------------\n",
      "Winner:Khan\n",
      "------------------------------------\n"
     ]
    }
   ],
   "source": [
    "#Analysis\n",
    "\n",
    "print(f'Election Results')\n",
    "print(f'------------------------------------')\n",
    "print(f'Total Votes:' + str(len(voter_id)))\n",
    "print(f'-------------------------------------')\n",
    "print(f'Khan:' + str(khan_percent) + '%' + \"(\" + str(khan_votes) + \")\")\n",
    "print(f'Correy:' + str(correy_percent) + '%' + \"(\" + str(correy_votes) + \")\") \n",
    "print(f'Li:' + str(li_percent) + '%' + \"(\" + str(li_votes) + \")\") \n",
    "print(f'O''Tooley:' + str(otooley_percent) + '%' + \"(\" + str(otooley_votes) + \")\") \n",
    "print(f'------------------------------------')\n",
    "print(f'Winner:' 'Khan')\n",
    "print(f'------------------------------------')"
   ]
  },
  {
   "cell_type": "code",
   "execution_count": null,
   "metadata": {},
   "outputs": [],
   "source": []
  }
 ],
 "metadata": {
  "kernelspec": {
   "display_name": "Python 3",
   "language": "python",
   "name": "python3"
  },
  "language_info": {
   "codemirror_mode": {
    "name": "ipython",
    "version": 3
   },
   "file_extension": ".py",
   "mimetype": "text/x-python",
   "name": "python",
   "nbconvert_exporter": "python",
   "pygments_lexer": "ipython3",
   "version": "3.8.5"
  }
 },
 "nbformat": 4,
 "nbformat_minor": 4
}
