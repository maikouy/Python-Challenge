{
 "cells": [
  {
   "cell_type": "code",
   "execution_count": 103,
   "metadata": {},
   "outputs": [],
   "source": [
    "#Import file/ open the file to CHANGE \n",
    "import os\n",
    "import csv\n",
    "\n",
    "#path to collect data from the Resource folder\n",
    "budget_data = os.path.join(\"Resources\", \"budget_data.csv\")\n",
    "\n",
    "# The list used to store \n",
    "\n",
    "months = []\n",
    "profits = [] \n",
    "total_profits = []\n",
    "prof_loss = []\n",
    "net_total = 0\n",
    "total_months = 0\n"
   ]
  },
  {
   "cell_type": "code",
   "execution_count": 104,
   "metadata": {},
   "outputs": [
    {
     "name": "stdout",
     "output_type": "stream",
     "text": [
      "<_csv.reader object at 0x00000138AED5B5E0>\n",
      "-2315.1176470588234\n",
      "1926159\n",
      "24\n",
      "Feb-12\n",
      "-2196167\n",
      "43\n",
      "Sep-13\n"
     ]
    }
   ],
   "source": [
    "with open(budget_data, newline = \"\") as csvfile:\n",
    "    csvreader = csv.reader(csvfile, delimiter=',')\n",
    "    print(csvreader)\n",
    "    \n",
    "    \n",
    "#Read the header row first\n",
    "    csv_header = next(csvreader)\n",
    "    #print(f\"CSV Header: {csvreader}\")\n",
    "    \n",
    "    #begin to loop        \n",
    "    for row in csvreader:\n",
    "        \n",
    "        months.append(row[0])\n",
    "        profits.append(int(row[1]))\n",
    "   \n",
    "        #print(len(months))\n",
    "        #print(profits)\n",
    "    \n",
    "        #Calculate net total:\n",
    "        prof_loss = int(row[1])\n",
    "        net_total = net_total + prof_loss\n",
    "        #print(net_total)\n",
    "        \n",
    "    profits_change = []\n",
    "    \n",
    "    for i in range(len(profits)-1):\n",
    "        profits_change.append(profits[i+1] - profits[i])\n",
    "        #print(profits_change)\n",
    "                                  \n",
    "                              \n",
    "    #calculate average revenue change\n",
    "    profits_average = sum(profits_change) / len(profits_change)\n",
    "    print(profits_average)\n",
    "        \n",
    "    \n",
    "    #find greatest increase in profits\n",
    "    greatest_increase = max(profits_change)\n",
    "    print(greatest_increase)   \n",
    "    x = profits_change.index(greatest_increase)\n",
    "    print(x)\n",
    "    greatest_month = months[x]\n",
    "    greatest_month_and_one = months[x + 1]\n",
    "    #you have to add 'one' since the number 24 includes the headers, so x is the row above the greatest increase.\n",
    "    print(greatest_month_and_one)\n",
    "        \n",
    "    #find the greatest decrease in losse\n",
    "    greatest_decrease = min(profits_change)\n",
    "    print(greatest_decrease)\n",
    "    t = profits_change.index(greatest_decrease)\n",
    "    print(t)\n",
    "    decrease_month = months[t]\n",
    "    decrease_month_and_one = months[t + 1]\n",
    "    #you have to add 'one' since the number 24 includes the header, so t is the row above the greatest decrease.\n",
    "    print(decrease_month_and_one)"
   ]
  },
  {
   "cell_type": "code",
   "execution_count": 105,
   "metadata": {},
   "outputs": [
    {
     "name": "stdout",
     "output_type": "stream",
     "text": [
      "Financial Analysis\n",
      "----------------------------------------------\n",
      "Total Months:86\n",
      "Total: $38382578\n",
      "Average: $-2315.1176470588234\n",
      "Greatest Increase in Profits:Feb-12($1926159)\n",
      "Greatest Decrease in Profits:Sep-13($-2196167)\n"
     ]
    }
   ],
   "source": [
    "#Analysis\n",
    "\n",
    "print(f\"Financial Analysis\")\n",
    "print(f\"----------------------------------------------\")\n",
    "print(f\"Total Months:\"  +  str(len(months))) \n",
    "print(f\"Total: $\" + str(net_total))\n",
    "print(f\"Average: $\" + str(profits_average))\n",
    "print(f\"Greatest Increase in Profits:\" + str(greatest_month_and_one) + \"(\" + \"$\" + str(greatest_increase) + \")\")\n",
    "print(f\"Greatest Decrease in Profits:\" + str(decrease_month_and_one) + \"(\" + \"$\" + str(greatest_decrease) + \")\") \n"
   ]
  },
  {
   "cell_type": "code",
   "execution_count": null,
   "metadata": {},
   "outputs": [],
   "source": [
    "\n"
   ]
  },
  {
   "cell_type": "code",
   "execution_count": 235,
   "metadata": {},
   "outputs": [],
   "source": []
  },
  {
   "cell_type": "code",
   "execution_count": null,
   "metadata": {},
   "outputs": [],
   "source": []
  },
  {
   "cell_type": "code",
   "execution_count": null,
   "metadata": {},
   "outputs": [],
   "source": []
  }
 ],
 "metadata": {
  "kernelspec": {
   "display_name": "Python 3",
   "language": "python",
   "name": "python3"
  },
  "language_info": {
   "codemirror_mode": {
    "name": "ipython",
    "version": 3
   },
   "file_extension": ".py",
   "mimetype": "text/x-python",
   "name": "python",
   "nbconvert_exporter": "python",
   "pygments_lexer": "ipython3",
   "version": "3.8.5"
  }
 },
 "nbformat": 4,
 "nbformat_minor": 4
}
